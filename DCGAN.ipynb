{
 "cells": [
  {
   "cell_type": "markdown",
   "metadata": {
    "collapsed": true
   },
   "source": [
    "### Using prtorch to build a GAN zoo\n"
   ]
  },
  {
   "cell_type": "code",
   "execution_count": 1,
   "metadata": {
    "collapsed": true
   },
   "outputs": [],
   "source": [
    "import torch\n",
    "import torch.nn as nn\n",
    "import torch.optim as optim\n",
    "import torch.nn.functional as F\n",
    "from torchvision import datasets, transforms\n",
    "import torchvision.utils as vutils\n",
    "from torch.autograd import Variable\n",
    "import torch.utils.data"
   ]
  },
  {
   "cell_type": "code",
   "execution_count": 2,
   "metadata": {
    "collapsed": false
   },
   "outputs": [
    {
     "name": "stdout",
     "output_type": "stream",
     "text": [
      "Files already downloaded and verified\n"
     ]
    },
    {
     "data": {
      "text/plain": [
       "2000"
      ]
     },
     "execution_count": 2,
     "metadata": {},
     "output_type": "execute_result"
    }
   ],
   "source": [
    "# load the data \n",
    "# using cifar10 data for DCGAN\n",
    "\n",
    "dataset = datasets.CIFAR10(root='data/cifar10', download=True,\n",
    "                           transform=transforms.Compose([\n",
    "                               transforms.Scale(32),\n",
    "                               transforms.ToTensor(),\n",
    "                               transforms.Normalize((0.5, 0.5, 0.5), (0.5, 0.5, 0.5)),\n",
    "                           ])\n",
    "                                      )\n",
    "\n",
    "dataloader = torch.utils.data.DataLoader(dataset, batch_size=25,\n",
    "                                         shuffle=True, num_workers=int(2))\n",
    "len(dataloader)"
   ]
  },
  {
   "cell_type": "markdown",
   "metadata": {},
   "source": [
    "* 数据加载\n",
    "1. ToTensor是指把PIL.Image(RGB) 或者numpy.ndarray(H x W x C) 从0到255的值映射到0到1的范围内，并转化成Tensor格式。"
   ]
  },
  {
   "cell_type": "markdown",
   "metadata": {},
   "source": [
    "### 按照DCGAN网络架构中的设计进行定义"
   ]
  },
  {
   "cell_type": "markdown",
   "metadata": {},
   "source": [
    "* 首先需要定义的是BN和weight filler"
   ]
  },
  {
   "cell_type": "code",
   "execution_count": 3,
   "metadata": {
    "collapsed": false
   },
   "outputs": [],
   "source": [
    "def weight_filler(m):\n",
    "    classname = m.__class__.__name__  #获取m的类型名\n",
    "    if classname.find('Conv') != -1:\n",
    "        m.weight.data.normal_(0.0, 0.02)\n",
    "    elif classname.find('BatchNorm') != -1:\n",
    "        m.weight.data.normal_(1.0, 0.02)\n",
    "        m.bias.data.fill_(0)"
   ]
  },
  {
   "cell_type": "code",
   "execution_count": 4,
   "metadata": {
    "collapsed": false
   },
   "outputs": [],
   "source": [
    "#使用一个类构建网络，\n",
    "#通过super函数继承 nn.Module的构造方法\n",
    "#使用sequential的方法构建网络模型\n",
    "\n",
    "class G(nn.Module):\n",
    "    def __init__(self):\n",
    "        super(G, self).__init__() \n",
    "        self.main = nn.Sequential(\n",
    "            nn.ConvTranspose2d(100, 64 * 8, 4, 1, 0, bias=False), # 64*8 kernel nums; 4 kernel size; 1 stride; 0 padding\n",
    "            nn.BatchNorm2d(64*8),\n",
    "            nn.ReLU(True),\n",
    "            # n kernel * 4 * 4\n",
    "            nn.ConvTranspose2d(64*8, 64 * 4, 4, 2, 1, bias=False),\n",
    "            nn.BatchNorm2d(64*4),\n",
    "            nn.ReLU(True),\n",
    "            # n kernel * 8 * 8\n",
    "            nn.ConvTranspose2d(64 * 4, 64 * 2, 4, 2, 1, bias=False),\n",
    "            nn.BatchNorm2d(64*2),\n",
    "            nn.ReLU(True),\n",
    "            # n kernel * 16 * 16\n",
    "            nn.ConvTranspose2d(64 * 2, 3, 4, 2, 1, bias=False),\n",
    "            nn.Tanh()\n",
    "            # nc * 32 * 32\n",
    "        ) \n",
    "        \n",
    "    def forward(self, x):\n",
    "        #x = x.view(x.size(0), x.size(1))\n",
    "        return self.main(x)\n",
    "g_model = G()"
   ]
  },
  {
   "cell_type": "code",
   "execution_count": 5,
   "metadata": {
    "collapsed": false
   },
   "outputs": [
    {
     "name": "stdout",
     "output_type": "stream",
     "text": [
      "D (\n",
      "  (main): Sequential (\n",
      "    (0): Conv2d(3, 64, kernel_size=(4, 4), stride=(2, 2), padding=(1, 1), bias=False)\n",
      "    (1): LeakyReLU (0.2, inplace)\n",
      "    (2): Conv2d(64, 128, kernel_size=(4, 4), stride=(2, 2), padding=(1, 1), bias=False)\n",
      "    (3): BatchNorm2d(128, eps=1e-05, momentum=0.1, affine=True)\n",
      "    (4): LeakyReLU (0.2, inplace)\n",
      "    (5): Conv2d(128, 256, kernel_size=(4, 4), stride=(2, 2), padding=(1, 1), bias=False)\n",
      "    (6): BatchNorm2d(256, eps=1e-05, momentum=0.1, affine=True)\n",
      "    (7): LeakyReLU (0.2, inplace)\n",
      "    (8): Conv2d(256, 1, kernel_size=(4, 4), stride=(1, 1), bias=False)\n",
      "    (9): Sigmoid ()\n",
      "  )\n",
      ")\n"
     ]
    }
   ],
   "source": [
    "# 卷积操作的计算\n",
    "# (W−F+2P)/S+1 : W: input size; F: kernel size; P:padding; S: stride;\n",
    "class D(nn.Module):\n",
    "    def __init__(self):\n",
    "        super(D, self).__init__()\n",
    "        self.main = nn.Sequential(\n",
    "        nn.Conv2d(3, 64, 4, 2, 1, bias=False), # 64 kernel nums; 4 kernel size; 2 stride; 1 padding\n",
    "        nn.LeakyReLU(0.2, inplace=True),\n",
    "        # state size. (ndf) x 16 x 16\n",
    "        nn.Conv2d(64, 64 * 2, 4, 2, 1, bias=False),\n",
    "        nn.BatchNorm2d(64*2),\n",
    "        nn.LeakyReLU(0.2, inplace=True),\n",
    "         # state size. (ndf) x 8 x 8\n",
    "        nn.Conv2d(64 * 2, 64 * 4, 4, 2, 1, bias=False),\n",
    "        nn.BatchNorm2d(64*4),\n",
    "        nn.LeakyReLU(0.2, inplace=True),\n",
    "         # state size. (ndf) x 4 x 4\n",
    "        nn.Conv2d(64 * 4, 1, 4, 1, 0, bias=False),\n",
    "        nn.Sigmoid()\n",
    "         # final output\n",
    "        )\n",
    "    def forward(self, x):\n",
    "        output = self.main(x)\n",
    "        return output\n",
    "    \n",
    "d_model = D()\n",
    "print(d_model)"
   ]
  },
  {
   "cell_type": "code",
   "execution_count": 6,
   "metadata": {
    "collapsed": false
   },
   "outputs": [],
   "source": [
    "input_ = torch.FloatTensor(25, 3, 32, 32)\n",
    "noise = torch.FloatTensor(25, 100, 1, 1) #(batch size; 100 dimension; 1 * 1)\n",
    "fixed_noise = torch.FloatTensor(25, 100, 1, 1).normal_(0, 1)\n",
    "label = torch.FloatTensor(25)\n",
    "\n",
    "input_ = Variable(input_)\n",
    "label = Variable(label)\n",
    "noise = Variable(noise)\n",
    "fixed_noise = Variable(fixed_noise)\n",
    "#noise.data.normal_(0,1)"
   ]
  },
  {
   "cell_type": "code",
   "execution_count": 7,
   "metadata": {
    "collapsed": false
   },
   "outputs": [],
   "source": [
    "#weight 初始化\n",
    "g_model.apply(weight_filler)\n",
    "d_model.apply(weight_filler)\n",
    "\n",
    "# 设置求解器： DCGAN使用Adam进行求解； 学习率设置为0.0002\n",
    "optimizerD = optim.Adam(d_model.parameters(), lr = 0.0002, betas = (0.5, 0.999)) \n",
    "optimizerG = optim.Adam(g_model.parameters(), lr = 0.0002, betas = (0.5, 0.999))\n",
    "\n",
    "criterion = nn.BCELoss()"
   ]
  },
  {
   "cell_type": "code",
   "execution_count": null,
   "metadata": {
    "collapsed": false
   },
   "outputs": [
    {
     "name": "stdout",
     "output_type": "stream",
     "text": [
      "[0/1000][0/2000] Loss_D: 0.6828 Loss_G: 0.1366 D(x): 0.3119 D(G(z)): 0.3708 / 0.1366\n",
      "[0/1000][100/2000] Loss_D: 0.9934 Loss_G: 0.0023 D(x): 0.9481 D(G(z)): 0.0453 / 0.0023\n"
     ]
    }
   ],
   "source": [
    "for epoch in range(500):\n",
    "    for i, data in enumerate(dataloader, 0):\n",
    "        #update the D model with real data\n",
    "        d_model.zero_grad()\n",
    "        real, _ = data\n",
    "        batch_size = real.size(0)\n",
    "        input_.data.resize_(real.size()).copy_(real)\n",
    "        label.data.resize_(batch_size).fill_(1) # real label is 1\n",
    "       \n",
    "        output = d_model(input_)\n",
    "\n",
    "        loss_D_r = criterion(output, label)\n",
    "        loss_D_r.backward()\n",
    "        D_real = output.data.mean()\n",
    "        #update D model with fake data\n",
    "        noise.data.resize_(batch_size, 100, 1, 1)\n",
    "        noise.data.normal_(0, 1)\n",
    "        label.data.fill_(0) # fake label\n",
    "        fake_input = g_model(noise)\n",
    "        output = d_model(fake_input.detach())\n",
    "        loss_D_f = criterion(output, label)\n",
    "        loss_D_f.backward()\n",
    "        D_fake = output.data.mean()\n",
    "        \n",
    "        errD = D_real + D_fake\n",
    "        \n",
    "        optimizerD.step()\n",
    "        \n",
    "        #update G mdoel\n",
    "        g_model.zero_grad()\n",
    "        label.data.fill_(1) # G model want the G samples be 1\n",
    "        noise.data.resize_(batch_size, 100, 1, 1)\n",
    "        noise.data.normal_(0, 1)\n",
    "        #fake_input = g_model(noise)\n",
    "        output = d_model(fake_input)\n",
    "        \n",
    "        loss_G = criterion(output, label)\n",
    "        loss_G.backward()\n",
    "        loss_D_G = output.data.mean()\n",
    "        \n",
    "        optimizerG.step()\n",
    "        \n",
    "        \n",
    "        if i%100 == 0:\n",
    "            print('[%d/%d][%d/%d] Loss_D: %.4f Loss_G: %.4f D(x): %.4f D(G(z)): %.4f / %.4f'\n",
    "              % (epoch, 1000, i, len(dataloader),\n",
    "                 D_real + D_fake, loss_D_G, D_real, D_fake, loss_D_G ))\n",
    "            \n",
    "            vutils.save_image(real, \n",
    "                             '%s/real_sample.png' % 'logs')\n",
    "            fake = g_model(fixed_noise)\n",
    "            vutils.save_image(fake.data,\n",
    "                             '%s/fake_sample_epoch_%03d.png' % ('logs', epoch))\n",
    "        \n",
    "        "
   ]
  },
  {
   "cell_type": "code",
   "execution_count": null,
   "metadata": {
    "collapsed": true
   },
   "outputs": [],
   "source": []
  }
 ],
 "metadata": {
  "description": "How to do net surgery and manually change model parameters for custom use.",
  "example_name": "Editing model parameters",
  "include_in_docs": true,
  "kernelspec": {
   "display_name": "Python 2",
   "language": "python",
   "name": "python2"
  },
  "language_info": {
   "codemirror_mode": {
    "name": "ipython",
    "version": 2
   },
   "file_extension": ".py",
   "mimetype": "text/x-python",
   "name": "python",
   "nbconvert_exporter": "python",
   "pygments_lexer": "ipython2",
   "version": "2.7.6"
  },
  "priority": 5
 },
 "nbformat": 4,
 "nbformat_minor": 0
}
