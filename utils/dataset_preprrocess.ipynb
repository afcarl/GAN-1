{
 "cells": [
  {
   "cell_type": "code",
   "execution_count": 2,
   "metadata": {
    "collapsed": false
   },
   "outputs": [],
   "source": [
    "import cv2\n",
    "import numpy as np\n",
    "import pandas as pd\n",
    "import matplotlib.pyplot as plt\n",
    "%matplotlib inline"
   ]
  },
  {
   "cell_type": "code",
   "execution_count": 48,
   "metadata": {
    "collapsed": false
   },
   "outputs": [
    {
     "name": "stdout",
     "output_type": "stream",
     "text": [
      "0     0\n",
      "1     1\n",
      "2     0\n",
      "3     1\n",
      "4     1\n",
      "5     0\n",
      "6     1\n",
      "7     1\n",
      "8     1\n",
      "9     0\n",
      "10    1\n",
      "11    0\n",
      "12    0\n",
      "13    0\n",
      "14    1\n",
      "...\n",
      "11773    1\n",
      "11774    0\n",
      "11775    1\n",
      "11776    0\n",
      "11777    1\n",
      "11778    0\n",
      "11779    0\n",
      "11780    1\n",
      "11781    1\n",
      "11782    0\n",
      "11783    1\n",
      "11784    0\n",
      "11785    0\n",
      "11786    1\n",
      "11787    0\n",
      "Name: split, Length: 11788, dtype: object\n"
     ]
    }
   ],
   "source": [
    "with open('/home/magic/END/dataset/CUB_200_2011/CUB_200_2011/images.txt') as f:\n",
    "    labels_df = pd.DataFrame([\n",
    "        {\n",
    "            'synset_id': l.strip().split(' ')[0],\n",
    "            'label': ' '.join(l.strip().split(' ')[1:]).split('.')[0],\n",
    "            'name': ' '.join(l.strip().split(' ')[1:]).split(',')[0]\n",
    "        }\n",
    "        for l in f.readlines()\n",
    "    ])\n",
    "with open('/home/magic/END/dataset/CUB_200_2011/CUB_200_2011/train_test_split.txt') as f_split:\n",
    "    splits = pd.DataFrame([\n",
    "        {\n",
    "            'split_id': l.strip().split(' ')[0],\n",
    "            'split': ' '.join(l.strip().split(' ')[1:]).split(',')[0]\n",
    "        }\n",
    "        for l in f_split.readlines()\n",
    "    ])\n",
    "print splits['split']\n",
    "#print labels_df['label']"
   ]
  },
  {
   "cell_type": "code",
   "execution_count": 47,
   "metadata": {
    "collapsed": false
   },
   "outputs": [
    {
     "name": "stdout",
     "output_type": "stream",
     "text": [
      "5794\n"
     ]
    }
   ],
   "source": [
    "train = open('train.txt', 'w+')\n",
    "test = open('test.txt', 'w+')\n",
    "i = 0\n",
    "for file_name, label, label_split in zip(labels_df['name'], labels_df['label'], splits['split']):\n",
    "    labels = int(label) - 1\n",
    "    if(label_split == '0'):\n",
    "        i+=1\n",
    "        test.write(file_name + ' ' + str(labels) + '\\n')\n",
    "    else:\n",
    "        train.write(file_name + ' ' + str(labels) + '\\n')\n",
    "test.close()\n",
    "train.close()\n",
    "print i"
   ]
  },
  {
   "cell_type": "markdown",
   "metadata": {},
   "source": [
    "### 使用分好的文件， 将数据分为训练和测试\n",
    "\n",
    "* 用到的一条shell\n",
    "* find . -name \"*.jpg\" -type f -print -exec rm -rf {} \\;\n",
    "* 将文件夹下的子目录的所有 jpg删除"
   ]
  },
  {
   "cell_type": "code",
   "execution_count": 27,
   "metadata": {
    "collapsed": false
   },
   "outputs": [],
   "source": [
    "with open('/home/magic/END/dataset/CUB_200_2011/CUB_200_2011/images/test.txt') as f:\n",
    "    labels_df = pd.DataFrame([\n",
    "        {\n",
    "            'name': ' '.join(l.strip().split(' ')[0:]).split(' ')[0],\n",
    "            'label': ' '.join(l.strip().split(' ')[1:]).split(' ')[0]\n",
    "        }\n",
    "        for l in f.readlines()\n",
    "    ])"
   ]
  },
  {
   "cell_type": "code",
   "execution_count": 28,
   "metadata": {
    "collapsed": false
   },
   "outputs": [],
   "source": [
    "path = '/home/magic/END/dataset/CUB_200_2011/CUB_200_2011/images'\n",
    "path_test = '/home/magic/END/dataset/CUB_200_2011/CUB_200_2011/test'\n",
    "i = 0\n",
    "for files, label in zip(labels_df['name'], labels_df['label']):\n",
    "    img_train = cv2.imread(path +'/'+files)\n",
    "    cv2.imwrite(path_test + '/' + files, img_train)\n",
    "    ###print (path_train + '/' + files)\n",
    "    ###if i>10:\n",
    "    ##    break\n",
    "    #i += 1    "
   ]
  },
  {
   "cell_type": "code",
   "execution_count": null,
   "metadata": {
    "collapsed": true
   },
   "outputs": [],
   "source": []
  }
 ],
 "metadata": {
  "description": "Run a pretrained model as a detector in Python.",
  "example_name": "R-CNN detection",
  "include_in_docs": true,
  "kernelspec": {
   "display_name": "Python 2",
   "language": "python",
   "name": "python2"
  },
  "language_info": {
   "codemirror_mode": {
    "name": "ipython",
    "version": 2
   },
   "file_extension": ".py",
   "mimetype": "text/x-python",
   "name": "python",
   "nbconvert_exporter": "python",
   "pygments_lexer": "ipython2",
   "version": "2.7.6"
  },
  "priority": 6
 },
 "nbformat": 4,
 "nbformat_minor": 0
}
