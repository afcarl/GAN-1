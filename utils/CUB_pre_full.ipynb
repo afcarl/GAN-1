{
 "cells": [
  {
   "cell_type": "markdown",
   "metadata": {
    "collapsed": true
   },
   "source": [
    "## process the CUB200 bird datasets\n"
   ]
  },
  {
   "cell_type": "code",
   "execution_count": 1,
   "metadata": {
    "collapsed": true
   },
   "outputs": [],
   "source": [
    "import os\n",
    "import cv2\n",
    "import numpy as np"
   ]
  },
  {
   "cell_type": "code",
   "execution_count": 55,
   "metadata": {
    "collapsed": false
   },
   "outputs": [],
   "source": [
    "# 将bounding box框选的目标，裁剪出来\n",
    "\n",
    "PATH = '/home/magic/END/dataset/CUB_200_2011/CUB_200_2011/images/'\n",
    "filepath = '/home/magic/END/dataset/CUB_200_2011/CUB_200_2011/images.txt'\n",
    "bbox_path = '/home/magic/END/dataset/CUB_200_2011/CUB_200_2011/bounding_boxes.txt'\n",
    "\n",
    "files = open(filepath, 'r')\n",
    "bbox = open(bbox_path, 'r') #<image_id> <x> <y> <width> <height>\n",
    "\n",
    "for box,image in zip(bbox,files):\n",
    "    bboxs = box.split(\" \")\n",
    "    image_path = image.split(\" \")[1].split(\"\\n\")\n",
    "    #print(PATH + image_path[0])\n",
    "    img = cv2.imread(PATH + image_path[0])\n",
    "\n",
    "    x,y,width,height=float(bboxs[1]),float(bboxs[2]),float(bboxs[3]),float(bboxs[4])\n",
    "\n",
    "    img_object = img[int(y):int(y+height),int(x):int(x+width)]\n",
    "    cv2.imwrite(PATH + image_path[0], img_object)"
   ]
  },
  {
   "cell_type": "code",
   "execution_count": null,
   "metadata": {
    "collapsed": false
   },
   "outputs": [],
   "source": [
    "pathDir =  os.listdir(filepath)"
   ]
  },
  {
   "cell_type": "code",
   "execution_count": 2,
   "metadata": {
    "collapsed": true
   },
   "outputs": [],
   "source": [
    "crop_w = 128\n",
    "crop_h = 128"
   ]
  },
  {
   "cell_type": "code",
   "execution_count": 10,
   "metadata": {
    "collapsed": false,
    "scrolled": true
   },
   "outputs": [],
   "source": [
    "#将数据集进行处理成pair data的形式 参见pix2pix\n",
    "#将原始object分割成九宫格\n",
    "path = '/home/magic/END/dataset/CUB_200_2011/CUB_200_2011/images/035.Purple_Finch'\n",
    "path_new = '/home/magic/pyTroch/CUB_part2object/035.Purple_Finch/'\n",
    "pathDir =  os.listdir(path)\n",
    "width = 85\n",
    "\n",
    "for files in pathDir:\n",
    "    img = cv2.imread(path +'/'+files)\n",
    "    img_ = cv2.resize(img, (255,255), interpolation=cv2.INTER_CUBIC)\n",
    "    count = 0\n",
    "    for i in xrange(3):\n",
    "        for j in xrange(3):\n",
    "            x = width * i\n",
    "            y = width * j\n",
    "            patch = img_[x:x+width, y:y+width]\n",
    "            \n",
    "            patch_re = cv2.resize(patch, (128,128), interpolation=cv2.INTER_CUBIC)\n",
    "            img_re = cv2.resize(img, (128,128),interpolation=cv2.INTER_CUBIC)\n",
    "            img_con = np.concatenate([patch_re, img_re], axis=1)\n",
    "            name = files[:17]+'_'+str(count)+'_part2object.png'\n",
    "            count+=1\n",
    "            cv2.imwrite(path_new + name, img_con)       "
   ]
  },
  {
   "cell_type": "code",
   "execution_count": 53,
   "metadata": {
    "collapsed": false,
    "scrolled": true
   },
   "outputs": [
    {
     "data": {
      "text/plain": [
       "True"
      ]
     },
     "execution_count": 53,
     "metadata": {},
     "output_type": "execute_result"
    }
   ],
   "source": [
    "#69.0 57.0 199.0 141.0\n",
    "img_test = cv2.imread('/home/magic/pyTroch/Black_Footed_Albatross_0001_796111.jpg')\n",
    "img_bbox = img_test[69:(69+141),57:(57+199)]\n",
    "cv2.imwrite('bbox2.png', img_bbox)"
   ]
  },
  {
   "cell_type": "code",
   "execution_count": 60,
   "metadata": {
    "collapsed": false
   },
   "outputs": [],
   "source": [
    "# test code for crop an image into patches\n",
    "#resize first\n",
    "width = 85\n",
    "count = 0\n",
    "img_tmp = cv2.imread('/home/magic/pyTroch/bbox2.png')\n",
    "img_re = cv2.resize(img_tmp, (255,255), interpolation=cv2.INTER_CUBIC)\n",
    "for i in range(3):\n",
    "    for j in range(3):\n",
    "        x = width * i\n",
    "        y = width * j\n",
    "        patch = img_re[x:x+width, y:y+width]\n",
    "        name = str(count) + 'patch.png'\n",
    "        cv2.imwrite(name, patch)\n",
    "        count+=1"
   ]
  },
  {
   "cell_type": "code",
   "execution_count": null,
   "metadata": {
    "collapsed": true
   },
   "outputs": [],
   "source": []
  }
 ],
 "metadata": {
  "description": "How to do net surgery and manually change model parameters for custom use.",
  "example_name": "Editing model parameters",
  "include_in_docs": true,
  "kernelspec": {
   "display_name": "Python 2",
   "language": "python",
   "name": "python2"
  },
  "language_info": {
   "codemirror_mode": {
    "name": "ipython",
    "version": 2
   },
   "file_extension": ".py",
   "mimetype": "text/x-python",
   "name": "python",
   "nbconvert_exporter": "python",
   "pygments_lexer": "ipython2",
   "version": "2.7.6"
  },
  "priority": 5
 },
 "nbformat": 4,
 "nbformat_minor": 0
}
